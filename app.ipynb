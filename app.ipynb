{
 "cells": [
  {
   "cell_type": "code",
   "execution_count": 31,
   "metadata": {},
   "outputs": [
    {
     "name": "stdout",
     "output_type": "stream",
     "text": [
      "9\n",
      "8\n",
      "7\n",
      "6\n",
      "5\n",
      "4\n",
      "3\n",
      "2\n",
      "1\n"
     ]
    }
   ],
   "source": [
    "lst = []\n",
    " \n",
    "newl = []\n",
    "\n",
    "while True:\n",
    "    n = int(input(\"Digite um número: \"))\n",
    "    \n",
    "    if n == 0:\n",
    "        break\n",
    "\n",
    "    lst.append(n) \n",
    "\n",
    "for i in range(1, len(lst) + 1):\n",
    "    newl.append(lst[len(lst) - i])\n",
    "\n",
    "for i in newl:\n",
    "    print(i)\n"
   ]
  },
  {
   "cell_type": "code",
   "execution_count": null,
   "metadata": {},
   "outputs": [],
   "source": [
    "while True:\n",
    "    n = int(input(\"Digite um número: \"))\n",
    "    \n",
    "    if n == 0:\n",
    "        break\n",
    "\n",
    "    lst.append(n) "
   ]
  }
 ],
 "metadata": {
  "kernelspec": {
   "display_name": "base",
   "language": "python",
   "name": "python3"
  },
  "language_info": {
   "codemirror_mode": {
    "name": "ipython",
    "version": 3
   },
   "file_extension": ".py",
   "mimetype": "text/x-python",
   "name": "python",
   "nbconvert_exporter": "python",
   "pygments_lexer": "ipython3",
   "version": "3.11.7"
  }
 },
 "nbformat": 4,
 "nbformat_minor": 2
}
